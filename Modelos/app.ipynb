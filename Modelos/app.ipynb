{
 "cells": [
  {
   "cell_type": "code",
   "execution_count": null,
   "id": "8adbd78f",
   "metadata": {},
   "outputs": [],
   "source": [
    "import pandas as pd\n",
    "from flask import Flask, request\n",
    "\n",
    "%run Predict.ipynb"
   ]
  },
  {
   "cell_type": "code",
   "execution_count": null,
   "id": "26751805",
   "metadata": {
    "scrolled": false
   },
   "outputs": [],
   "source": [
    "app = Flask(__name__)\n",
    "app.config['MAX_CONTENT_LENGTH'] = 64 * 1024 * 1024\n",
    "\n",
    "@app.route('/result_predict', methods=['POST'])\n",
    "def resut_predict():    \n",
    "    response1_df = pd.read_csv(request.files['response1'])\n",
    "    response2_df = pd.read_csv(request.files['response2'])\n",
    "\n",
    "    resultado = predict(response1_df, response2_df)\n",
    "    resultado_str = str(resultado)\n",
    "    return resultado_str\n",
    "\n",
    "@app.route('/result_gam', methods=['POST'])\n",
    "def result_gam():\n",
    "    response1_df = pd.read_csv(request.files['response1'])\n",
    "    response2_df = pd.read_excel(request.files['response2'])\n",
    "\n",
    "    resultado = gam(response1_df, response2_df)\n",
    "    resultado_str = str(resultado)\n",
    "\n",
    "    return resultado_str\n",
    "\n",
    "@app.route('/result_lstm', methods=['POST'])\n",
    "def result_lstm():\n",
    "    response1_df = pd.read_csv(request.files['response1'])\n",
    "    response2_df = pd.read_excel(request.files['response2'])\n",
    "\n",
    "    resultado = lstm(response1_df, response2_df)\n",
    "    resultado_str = str(resultado)\n",
    "\n",
    "    return resultado_str\n",
    "\n",
    "@app.route('/result_outliers', methods=['POST'])\n",
    "def result_outliers():\n",
    "    response1_df = pd.read_csv(request.files['response1'])\n",
    "    response2_df = pd.read_excel(request.files['response2'])\n",
    "\n",
    "    resultado = outliers(response1_df, response2_df)\n",
    "    resultado_str = str(resultado)\n",
    "\n",
    "    return resultado_str\n",
    "\n",
    "if __name__ == '__main__':\n",
    "    app.run(debug=True, use_reloader=False)"
   ]
  }
 ],
 "metadata": {
  "kernelspec": {
   "display_name": "Python 3 (ipykernel)",
   "language": "python",
   "name": "python3"
  },
  "language_info": {
   "codemirror_mode": {
    "name": "ipython",
    "version": 3
   },
   "file_extension": ".py",
   "mimetype": "text/x-python",
   "name": "python",
   "nbconvert_exporter": "python",
   "pygments_lexer": "ipython3",
   "version": "3.11.4"
  }
 },
 "nbformat": 4,
 "nbformat_minor": 5
}
